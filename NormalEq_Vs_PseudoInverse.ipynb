{
  "nbformat": 4,
  "nbformat_minor": 0,
  "metadata": {
    "colab": {
      "provenance": [],
      "authorship_tag": "ABX9TyMMV2lLYlmSWF9CKvy5238H",
      "include_colab_link": true
    },
    "kernelspec": {
      "name": "python3",
      "display_name": "Python 3"
    },
    "language_info": {
      "name": "python"
    }
  },
  "cells": [
    {
      "cell_type": "markdown",
      "metadata": {
        "id": "view-in-github",
        "colab_type": "text"
      },
      "source": [
        "<a href=\"https://colab.research.google.com/github/benasphy/Linear-Regression/blob/main/NormalEq_Vs_PseudoInverse.ipynb\" target=\"_parent\"><img src=\"https://colab.research.google.com/assets/colab-badge.svg\" alt=\"Open In Colab\"/></a>"
      ]
    },
    {
      "cell_type": "markdown",
      "source": [
        "- **Normal Equation**"
      ],
      "metadata": {
        "id": "O5VTGxmg5ge2"
      }
    },
    {
      "cell_type": "code",
      "source": [
        "import numpy as np\n",
        "import pandas as pd"
      ],
      "metadata": {
        "id": "isgZoxEL5rlC"
      },
      "execution_count": 18,
      "outputs": []
    },
    {
      "cell_type": "code",
      "source": [
        "class Linear_Reg_NormalEq:\n",
        "  def __init__(self):\n",
        "    self.theta = None\n",
        "\n",
        "  def fit(self, X, y):\n",
        "    X = np.array(X)\n",
        "    y = np.array(y).reshape(-1, 1)\n",
        "\n",
        "    X_b = np.c_[np.ones((X.shape[0], 1)), X]\n",
        "    self.theta = np.linalg.inv(X_b.T.dot(X_b)).dot(X_b.T).dot(y)\n",
        "\n",
        "  def predict(self, X):\n",
        "    X = np.array(X)\n",
        "    X_b = np.c_[np.ones((X.shape[0], 1)), X]\n",
        "    return np.dot(X_b, self.theta)\n",
        "\n",
        "  def evaluate(self, X, y):\n",
        "    y_pred = self.predict(X)\n",
        "    y = np.array(y).reshape(-1, 1)\n",
        "    mse = np.mean((y - y_pred) ** 2)\n",
        "    return mse\n",
        "\n"
      ],
      "metadata": {
        "id": "dfL--6G65uAi"
      },
      "execution_count": 54,
      "outputs": []
    },
    {
      "cell_type": "code",
      "source": [
        "data = {\n",
        "    'X': [1, 2, 3, 4, 5],\n",
        "    'y': [2, 4, 5, 4, 5]\n",
        "}\n",
        "df = pd.DataFrame(data)\n",
        "\n",
        "X = df[['X']]\n",
        "y = df['y']"
      ],
      "metadata": {
        "id": "o_An8LHc43i4"
      },
      "execution_count": 55,
      "outputs": []
    },
    {
      "cell_type": "code",
      "source": [
        "model = Linear_Reg_NormalEq()\n",
        "model.fit(X, y)"
      ],
      "metadata": {
        "id": "pyxkGrO-6e02"
      },
      "execution_count": 56,
      "outputs": []
    },
    {
      "cell_type": "code",
      "source": [
        "print(model.theta)"
      ],
      "metadata": {
        "colab": {
          "base_uri": "https://localhost:8080/"
        },
        "id": "tikN2CLV6ool",
        "outputId": "68851292-b162-4ea6-e48e-de268a882634"
      },
      "execution_count": 57,
      "outputs": [
        {
          "output_type": "stream",
          "name": "stdout",
          "text": [
            "[[2.2]\n",
            " [0.6]]\n"
          ]
        }
      ]
    },
    {
      "cell_type": "code",
      "source": [
        "predictions = model.predict(X)\n",
        "predictions"
      ],
      "metadata": {
        "colab": {
          "base_uri": "https://localhost:8080/"
        },
        "id": "gjZmyZJd7HwF",
        "outputId": "23f53e2e-cdd9-4708-c5f0-695706f77466"
      },
      "execution_count": 58,
      "outputs": [
        {
          "output_type": "execute_result",
          "data": {
            "text/plain": [
              "array([[2.8],\n",
              "       [3.4],\n",
              "       [4. ],\n",
              "       [4.6],\n",
              "       [5.2]])"
            ]
          },
          "metadata": {},
          "execution_count": 58
        }
      ]
    },
    {
      "cell_type": "code",
      "source": [
        "mse = model.evaluate(X, y)\n",
        "print(mse)"
      ],
      "metadata": {
        "colab": {
          "base_uri": "https://localhost:8080/"
        },
        "id": "Ch4pjVDY7MmS",
        "outputId": "ded2e9c8-9f98-473c-b1a3-8fbd2c20a874"
      },
      "execution_count": 59,
      "outputs": [
        {
          "output_type": "stream",
          "name": "stdout",
          "text": [
            "0.47999999999999987\n"
          ]
        }
      ]
    },
    {
      "cell_type": "markdown",
      "source": [
        "- **Moore-Penrose PseudoInverse**"
      ],
      "metadata": {
        "id": "sV81Cbrn8NeJ"
      }
    },
    {
      "cell_type": "code",
      "source": [
        "class Linear_Reg_PseudoInv:\n",
        "  def __init__(self):\n",
        "    self.theta = None\n",
        "\n",
        "  def fit(self, X, y):\n",
        "    X = np.array(X)\n",
        "    y = np.array(y).reshape(-1, 1)\n",
        "\n",
        "    X_b = np.c_[np.ones((X.shape[0], 1)), X]\n",
        "    self.theta = np.linalg.pinv(X_b).dot(y)\n",
        "\n",
        "  def predict(self, X):\n",
        "    X = np.array(X)\n",
        "    X_b = np.c_[np.ones((X.shape[0], 1)), X]\n",
        "    return np.dot(X_b, self.theta)\n",
        "\n",
        "  def evaluate(self, X, y):\n",
        "    y_pred = self.predict(X)\n",
        "    y = np.array(y).reshape(-1, 1)\n",
        "    mse = np.mean((y - y_pred) ** 2)\n",
        "    return mse\n",
        "\n"
      ],
      "metadata": {
        "id": "CxrxQHqL8RG3"
      },
      "execution_count": 61,
      "outputs": []
    },
    {
      "cell_type": "code",
      "source": [
        "data = {\n",
        "    'X': [1, 2, 3, 4, 5],\n",
        "    'y': [2, 4, 5, 4, 5]\n",
        "}\n",
        "df = pd.DataFrame(data)\n",
        "\n",
        "X = df[['X']]\n",
        "y = df['y']"
      ],
      "metadata": {
        "id": "qxj6_bzm8rO5"
      },
      "execution_count": 62,
      "outputs": []
    },
    {
      "cell_type": "code",
      "source": [
        "model = Linear_Reg_PseudoInv()\n",
        "model.fit(X, y)"
      ],
      "metadata": {
        "id": "G0OXUyz38wUH"
      },
      "execution_count": 63,
      "outputs": []
    },
    {
      "cell_type": "code",
      "source": [
        "print(model.theta)"
      ],
      "metadata": {
        "colab": {
          "base_uri": "https://localhost:8080/"
        },
        "id": "zoQYs23i80B1",
        "outputId": "81661aa4-02f1-4fc2-edec-13069ab44be8"
      },
      "execution_count": 64,
      "outputs": [
        {
          "output_type": "stream",
          "name": "stdout",
          "text": [
            "[[2.2]\n",
            " [0.6]]\n"
          ]
        }
      ]
    }
  ]
}