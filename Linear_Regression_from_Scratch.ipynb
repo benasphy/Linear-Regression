{
  "nbformat": 4,
  "nbformat_minor": 0,
  "metadata": {
    "colab": {
      "provenance": [],
      "authorship_tag": "ABX9TyPR3Wsox6i5LZ9Of2ZTuuSF",
      "include_colab_link": true
    },
    "kernelspec": {
      "name": "python3",
      "display_name": "Python 3"
    },
    "language_info": {
      "name": "python"
    }
  },
  "cells": [
    {
      "cell_type": "markdown",
      "metadata": {
        "id": "view-in-github",
        "colab_type": "text"
      },
      "source": [
        "<a href=\"https://colab.research.google.com/github/benasphy/Linear-Regression/blob/main/Linear_Regression_from_Scratch.ipynb\" target=\"_parent\"><img src=\"https://colab.research.google.com/assets/colab-badge.svg\" alt=\"Open In Colab\"/></a>"
      ]
    },
    {
      "cell_type": "code",
      "execution_count": 1,
      "metadata": {
        "id": "Kb6xFfKuwPB0"
      },
      "outputs": [],
      "source": [
        "import numpy as np\n",
        "import pandas as pd\n",
        "import matplotlib.pyplot as plt"
      ]
    },
    {
      "cell_type": "code",
      "source": [
        "class Linear_Regression_Scratch:\n",
        "  def __init__(self, learning_rate, n_iters):\n",
        "    self.lr = learning_rate\n",
        "    self.n_iters = n_iters\n",
        "    self.weights = None\n",
        "    self.bias = None\n",
        "\n",
        "  def fit(self, X, y):\n",
        "    X = np.array(X)\n",
        "    y = np.array(y)\n",
        "\n",
        "    n_samples, n_features = X.shape\n",
        "    self.weights = np.zeros(n_features)\n",
        "    self.bias = 0\n",
        "\n",
        "    for _ in range(self.n_iters):\n",
        "      y_pred = np.dot(X, self.weights) + self.bias\n",
        "\n",
        "      dw = (2/n_samples) * np.dot(X.T, (y_pred - y))\n",
        "      db = (2/n_samples) * np.sum(y_pred - y)\n",
        "\n",
        "      self.weights -= self.lr * dw\n",
        "      self.bias -= self.lr * db\n",
        "\n",
        "  def predict(self, X):\n",
        "    X = np.array(X)\n",
        "    return np.dot(X, self.weights) + self.bias\n",
        "\n",
        "  def evaluate(self, X, y):\n",
        "    y_pred = self.predict(X)\n",
        "    mse = np.mean(y_pred - y) ** 2\n",
        "    return mse\n"
      ],
      "metadata": {
        "id": "0H60yycQwip0"
      },
      "execution_count": 14,
      "outputs": []
    },
    {
      "cell_type": "code",
      "source": [
        "data = {\n",
        "    'X': [1, 2, 3, 4, 5],\n",
        "    'y': [2, 4, 5, 4, 5]\n",
        "}\n",
        "df = pd.DataFrame(data)\n",
        "\n",
        "X = df[[\"X\"]]\n",
        "y = df[\"y\"]"
      ],
      "metadata": {
        "id": "b5W6oubLx17P"
      },
      "execution_count": 15,
      "outputs": []
    },
    {
      "cell_type": "code",
      "source": [
        "model = Linear_Regression_Scratch(learning_rate=0.005, n_iters=10000)\n",
        "model.fit(X, y)"
      ],
      "metadata": {
        "id": "YNcHdi2wyAQM"
      },
      "execution_count": 16,
      "outputs": []
    },
    {
      "cell_type": "code",
      "source": [
        "predictions = model.predict(X)\n",
        "predictions"
      ],
      "metadata": {
        "colab": {
          "base_uri": "https://localhost:8080/"
        },
        "id": "7xMyn4yqyHlA",
        "outputId": "703fd302-9c57-4b25-e3b4-dca2104b680c"
      },
      "execution_count": 17,
      "outputs": [
        {
          "output_type": "execute_result",
          "data": {
            "text/plain": [
              "array([2.79999994, 3.39999996, 3.99999999, 4.60000001, 5.20000003])"
            ]
          },
          "metadata": {},
          "execution_count": 17
        }
      ]
    },
    {
      "cell_type": "code",
      "source": [
        "mse = model.evaluate(X, y)\n",
        "print(model.weights)\n",
        "print(model.bias)\n",
        "print(mse)"
      ],
      "metadata": {
        "colab": {
          "base_uri": "https://localhost:8080/"
        },
        "id": "3XdvErOhyLJo",
        "outputId": "342a9e6d-e186-4138-e8af-088e8ae1024c"
      },
      "execution_count": 18,
      "outputs": [
        {
          "output_type": "stream",
          "name": "stdout",
          "text": [
            "[0.60000002]\n",
            "2.199999915213037\n",
            "2.0543705150089633e-16\n"
          ]
        }
      ]
    },
    {
      "cell_type": "code",
      "source": [
        "plt.scatter(X, y, color = \"blue\", label = \"Actual\")\n",
        "plt.plot(X, predictions, color = \"red\", label = \"Predicted\")\n",
        "plt.xlabel(\"X\")\n",
        "plt.ylabel(\"y\")\n",
        "plt.legend()\n",
        "plt.show()"
      ],
      "metadata": {
        "colab": {
          "base_uri": "https://localhost:8080/",
          "height": 455
        },
        "id": "cseXuJcTyS-8",
        "outputId": "e816a32c-f71b-4ebf-e7e4-efdb93b05839"
      },
      "execution_count": 13,
      "outputs": [
        {
          "output_type": "display_data",
          "data": {
            "text/plain": [
              "<Figure size 640x480 with 1 Axes>"
            ],
            "image/png": "[encoded data removed]"
          },
          "metadata": {}
        }
      ]
    }
  ]
}