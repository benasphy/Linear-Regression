{
  "nbformat": 4,
  "nbformat_minor": 0,
  "metadata": {
    "colab": {
      "provenance": [],
      "authorship_tag": "ABX9TyMryW9c2zuG7bIrDVxBGA+g"
    },
    "kernelspec": {
      "name": "python3",
      "display_name": "Python 3"
    },
    "language_info": {
      "name": "python"
    }
  },
  "cells": [
    {
      "cell_type": "code",
      "execution_count": 2,
      "metadata": {
        "colab": {
          "base_uri": "https://localhost:8080/"
        },
        "id": "ENA2yzPJ_WGd",
        "outputId": "56b1ecc4-c831-4814-d567-d71b80998f27"
      },
      "outputs": [
        {
          "output_type": "stream",
          "name": "stdout",
          "text": [
            "Predicted goals for 35 matches played: 33.08\n"
          ]
        },
        {
          "output_type": "stream",
          "name": "stderr",
          "text": [
            "/usr/local/lib/python3.10/dist-packages/sklearn/base.py:439: UserWarning: X does not have valid feature names, but LinearRegression was fitted with feature names\n",
            "  warnings.warn(\n"
          ]
        }
      ],
      "source": [
        "import numpy as np\n",
        "import pandas as pd\n",
        "from sklearn.linear_model import LinearRegression\n",
        "from sklearn.model_selection import train_test_split\n",
        "from sklearn.metrics import mean_squared_error\n",
        "\n",
        "# Sample data (matches played vs. goals scored)\n",
        "data = {\n",
        "    'Matches_Played': [33, 34, 36, 34, 33],  # Replace with actual data\n",
        "    'Goals_Scored': [26, 37, 34, 36, 25]  # Replace with actual data\n",
        "}\n",
        "\n",
        "# Create a DataFrame\n",
        "df = pd.DataFrame(data)\n",
        "\n",
        "# Split the data into training and testing sets\n",
        "X = df[['Matches_Played']]\n",
        "y = df['Goals_Scored']\n",
        "X_train, X_test, y_train, y_test = train_test_split(X, y, test_size=0.2, random_state=42)\n",
        "\n",
        "# Create a linear regression model\n",
        "model = LinearRegression()\n",
        "\n",
        "# Fit the model on the training data\n",
        "model.fit(X_train, y_train)\n",
        "\n",
        "# Predict Messi's goal scoring for a given number of matches played\n",
        "matches_played_current_year = 35  # Replace with the actual number of matches played\n",
        "predicted_goals = model.predict([[matches_played_current_year]])[0]\n",
        "\n",
        "print(f\"Predicted goals for {matches_played_current_year} matches played: {predicted_goals:.2f}\")"
      ]
    }
  ]
}