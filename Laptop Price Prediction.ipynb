{
  "nbformat": 4,
  "nbformat_minor": 0,
  "metadata": {
    "colab": {
      "provenance": [],
      "authorship_tag": "ABX9TyMp+lKkuRjpgiM0BXxV9uUL",
      "include_colab_link": true
    },
    "kernelspec": {
      "name": "python3",
      "display_name": "Python 3"
    },
    "language_info": {
      "name": "python"
    }
  },
  "cells": [
    {
      "cell_type": "markdown",
      "metadata": {
        "id": "view-in-github",
        "colab_type": "text"
      },
      "source": [
        "<a href=\"https://colab.research.google.com/github/benasphy/Linear-Regression/blob/main/Laptop%20Price%20Prediction.ipynb\" target=\"_parent\"><img src=\"https://colab.research.google.com/assets/colab-badge.svg\" alt=\"Open In Colab\"/></a>"
      ]
    },
    {
      "cell_type": "code",
      "source": [
        "# Import Necessary Libraries\n",
        "import pandas as pd\n",
        "import numpy as np\n",
        "from sklearn.model_selection import train_test_split\n",
        "from sklearn.linear_model import LinearRegression\n",
        "from sklearn.metrics import mean_squared_error, r2_score\n",
        "from sklearn.preprocessing import LabelEncoder\n",
        "\n",
        "# Load the Dataset\n",
        "# Replace 'path_to_csv' with the actual path to the downloaded dataset\n",
        "# Specifying the encoding to 'latin-1' to handle potential encoding issues\n",
        "df = pd.read_csv('/content/laptop_price.csv', encoding='latin-1')\n",
        "\n",
        "# Data Preprocessing\n",
        "# Handle Missing Values\n",
        "df.dropna(inplace=True)\n",
        "\n",
        "# Encode Categorical Variables\n",
        "le = LabelEncoder()\n",
        "categorical_features = ['Company', 'Product', 'TypeName', 'Cpu', 'Gpu', 'OpSys']\n",
        "for feature in categorical_features:\n",
        "    df[feature] = le.fit_transform(df[feature])\n",
        "\n",
        "# ---Changes start here---\n",
        "# Preprocessing for 'Memory', 'Ram' and 'Weight' Features\n",
        "\n",
        "# 1. Extract numeric value and unit from 'Memory' column\n",
        "df['Memory_Num'] = df['Memory'].str.extract('(\\d+)').astype(float)  # Extract numeric part\n",
        "df['Memory_Unit'] = df['Memory'].str.extract('([a-zA-Z]+)')  # Extract unit\n",
        "\n",
        "# 2. Extract numeric value from 'Ram' column\n",
        "df['Ram'] = df['Ram'].str.extract('(\\d+)').astype(float) # Extract numeric part of Ram\n",
        "\n",
        "# 3. Create dummy variables for Memory_Unit, handling missing categories\n",
        "# Get all unique memory units\n",
        "all_memory_units = ['GB', 'HDD', 'Hybrid', 'SSD', 'TB']\n",
        "\n",
        "# Create dummy variables, ensuring all expected categories are present\n",
        "memory_unit_dummies = pd.get_dummies(df['Memory_Unit'], prefix='Memory_Unit')\n",
        "for unit in all_memory_units:\n",
        "    if f'Memory_Unit_{unit}' not in memory_unit_dummies.columns:\n",
        "        memory_unit_dummies[f'Memory_Unit_{unit}'] = 0  # Add missing columns with 0 values\n",
        "\n",
        "df = pd.concat([df, memory_unit_dummies], axis=1)\n",
        "\n",
        "# 4. Drop the original 'Memory' and 'Memory_Unit' columns\n",
        "df.drop(['Memory', 'Memory_Unit'], axis=1, inplace=True)\n",
        "\n",
        "# 5. Convert 'Weight' column to numeric (extract numeric part and convert to float)\n",
        "df['Weight'] = df['Weight'].str.extract('(\\d+\\.?\\d*)').astype(float)\n",
        "\n",
        "# ---Changes end here---\n",
        "\n",
        "# Feature Selection\n",
        "# Include new memory features in X\n",
        "X = df[['Company', 'TypeName', 'Inches', 'Cpu', 'Ram', 'Memory_Num',\n",
        "        'Memory_Unit_GB', 'Memory_Unit_HDD', 'Memory_Unit_Hybrid',\n",
        "        'Memory_Unit_SSD', 'Memory_Unit_TB', 'Gpu', 'OpSys', 'Weight']]\n",
        "y = df['Price_euros']\n",
        "\n",
        "# Split the Data\n",
        "X_train, X_test, y_train, y_test = train_test_split(X, y, test_size=0.2, random_state=42)\n",
        "\n",
        "# Train the Linear Regression Model\n",
        "model = LinearRegression()\n",
        "model.fit(X_train, y_train)\n",
        "\n",
        "# Make Predictions\n",
        "y_pred = model.predict(X_test)\n",
        "\n",
        "# Evaluate the Model\n",
        "mse = mean_squared_error(y_test, y_pred)\n",
        "rmse = np.sqrt(mse)\n",
        "r2 = r2_score(y_test, y_pred)\n",
        "\n",
        "print(f'RMSE: {rmse}')\n",
        "print(f'R^2 Score: {r2}')"
      ],
      "metadata": {
        "colab": {
          "base_uri": "https://localhost:8080/"
        },
        "id": "42rR1xryP4nX",
        "outputId": "5be7223b-625a-469e-c13e-4189e623f633"
      },
      "execution_count": 14,
      "outputs": [
        {
          "output_type": "stream",
          "name": "stdout",
          "text": [
            "RMSE: 422.36332651454927\n",
            "R^2 Score: 0.6487862498100904\n"
          ]
        }
      ]
    }
  ]
}